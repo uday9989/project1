{
 "cells": [
  {
   "cell_type": "code",
   "execution_count": 1,
   "id": "ba97b3b3",
   "metadata": {},
   "outputs": [
    {
     "name": "stdout",
     "output_type": "stream",
     "text": [
      "Swift\n",
      "Python\n",
      "Go\n",
      "JavaScript\n"
     ]
    }
   ],
   "source": [
    "languages = ['Swift', 'Python', 'Go', 'JavaScript']\n",
    "\n",
    "# run a loop for each item of the list\n",
    "for language in languages:\n",
    "    print(language)"
   ]
  },
  {
   "cell_type": "code",
   "execution_count": null,
   "id": "d2e4293c",
   "metadata": {},
   "outputs": [],
   "source": []
  }
 ],
 "metadata": {
  "kernelspec": {
   "display_name": "Python 3",
   "language": "python",
   "name": "python3"
  },
  "language_info": {
   "codemirror_mode": {
    "name": "ipython",
    "version": 3
   },
   "file_extension": ".py",
   "mimetype": "text/x-python",
   "name": "python",
   "nbconvert_exporter": "python",
   "pygments_lexer": "ipython3",
   "version": "3.8.8"
  }
 },
 "nbformat": 4,
 "nbformat_minor": 5
}
